{
 "cells": [
  {
   "cell_type": "code",
   "execution_count": 1,
   "metadata": {},
   "outputs": [],
   "source": [
    "from copy import deepcopy\n",
    "\n",
    "import pandas as pd\n",
    "import numpy as np\n",
    "from scipy import stats\n",
    "\n",
    "from sklearn.preprocessing import StandardScaler, LabelBinarizer\n",
    "from sklearn.model_selection import StratifiedKFold\n",
    "from sklearn.linear_model import LogisticRegression\n",
    "from sklearn.ensemble import RandomForestClassifier\n",
    "from sklearn.tree import DecisionTreeClassifier\n",
    "\n",
    "from sklearn.metrics import roc_auc_score\n",
    "\n",
    "import matplotlib.pyplot as plt\n",
    "\n",
    "import seaborn as sns"
   ]
  },
  {
   "cell_type": "code",
   "execution_count": 2,
   "metadata": {},
   "outputs": [],
   "source": [
    "data_train = pd.read_csv(\"train.csv\", index_col=0)\n",
    "data_test = pd.read_csv(\"test.csv\", index_col=0)\n",
    "\n",
    "X = data_train.drop(labels=[\"stroke\"], axis=1)\n",
    "y = data_train[\"stroke\"]\n",
    "\n",
    "X_sub = data_test"
   ]
  },
  {
   "cell_type": "markdown",
   "metadata": {},
   "source": [
    "## Support function"
   ]
  },
  {
   "cell_type": "markdown",
   "metadata": {},
   "source": [
    "### Function to analyze the significance of features"
   ]
  },
  {
   "cell_type": "code",
   "execution_count": 3,
   "metadata": {},
   "outputs": [],
   "source": [
    "def woe(data, value):\n",
    "    value_data = data[data.iloc[:,0] == value]\n",
    "    non_events = len(value_data[value_data.iloc[:,1] == 0]) / len(data[data.iloc[:,1] == 0]) * 100\n",
    "    events = len(value_data[value_data.iloc[:,1] == 1]) /len(data[data.iloc[:,1] == 1]) * 100\n",
    "    if events == 0:\n",
    "            events += 0.5\n",
    "    if non_events == 0:\n",
    "        non_events += 0.5\n",
    "    woe = np.log(non_events / events)\n",
    "    return woe"
   ]
  },
  {
   "cell_type": "code",
   "execution_count": 4,
   "metadata": {},
   "outputs": [],
   "source": [
    "def lv(data):\n",
    "    lv = 0\n",
    "    for value in np.unique(data.iloc[:,0]):\n",
    "        value_data = data[data.iloc[:,0] == value]\n",
    "        non_events = len(value_data[value_data.iloc[:,1] == 0]) / len(data[data.iloc[:,1] == 0]) * 100\n",
    "        events = len(value_data[value_data.iloc[:,1] == 1]) /len(data[data.iloc[:,1] == 1]) * 100\n",
    "        non_events += 0.5\n",
    "        events += 0.5\n",
    "        woe = np.log(non_events / events)\n",
    "        lv += (non_events - events) * woe\n",
    "    return lv"
   ]
  },
  {
   "cell_type": "code",
   "execution_count": 5,
   "metadata": {},
   "outputs": [],
   "source": [
    "def convert(intervals, value):\n",
    "    for i in range(len(intervals)-1):\n",
    "        if value >= intervals[i] and value <= intervals[i+1]:\n",
    "            return i"
   ]
  },
  {
   "cell_type": "code",
   "execution_count": 6,
   "metadata": {},
   "outputs": [],
   "source": [
    "def create_bins(data, n):\n",
    "    min_value = min(data)\n",
    "    max_value = max(data)\n",
    "    \n",
    "    intervals = np.linspace(min_value, max_value, n, endpoint=True)\n",
    "\n",
    "    output = [convert(intervals, x) for x in data]\n",
    "    \n",
    "    return output"
   ]
  },
  {
   "cell_type": "markdown",
   "metadata": {},
   "source": [
    "### Function for transform features"
   ]
  },
  {
   "cell_type": "code",
   "execution_count": 7,
   "metadata": {},
   "outputs": [],
   "source": [
    "def one_hot_encoding(data, binary_features):\n",
    "    binary_data = pd.DataFrame(index=data.index)\n",
    "    for feature in binary_features:\n",
    "        pd_binary_data = data[[feature]].dropna(axis=0)\n",
    "\n",
    "        binarizer = LabelBinarizer()\n",
    "        one_binary_data = binarizer.fit_transform(pd_binary_data)\n",
    "\n",
    "        if len(binarizer.classes_) == 2:\n",
    "            one_binary_data = pd.DataFrame(one_binary_data, index=pd_binary_data.index, columns=[feature])\n",
    "        else:\n",
    "            one_binary_data = pd.DataFrame(one_binary_data, index=pd_binary_data.index, \n",
    "                                           columns=[f\"{feature}_{x}\" for x in binarizer.classes_])\n",
    "\n",
    "        binary_data = pd.merge(binary_data, one_binary_data, how=\"left\", left_index=True, right_index=True)\n",
    "    binary_data.fillna(0, inplace=True)\n",
    "    return binary_data"
   ]
  },
  {
   "cell_type": "markdown",
   "metadata": {},
   "source": [
    "# Preprocessing data"
   ]
  },
  {
   "cell_type": "code",
   "execution_count": 8,
   "metadata": {},
   "outputs": [
    {
     "name": "stdout",
     "output_type": "stream",
     "text": [
      "Index(['gender', 'age', 'hypertension', 'heart_disease', 'ever_married',\n",
      "       'work_type', 'Residence_type', 'avg_glucose_level', 'bmi',\n",
      "       'smoking_status', 'stroke'],\n",
      "      dtype='object')\n"
     ]
    }
   ],
   "source": [
    "print(data_train.columns)"
   ]
  },
  {
   "cell_type": "code",
   "execution_count": 9,
   "metadata": {},
   "outputs": [
    {
     "data": {
      "text/plain": [
       "(array([ 4188.,     0., 17220.,     0.,     0.,   115.,     0.,  4674.,\n",
       "            0.,  3804.]),\n",
       " array([0. , 0.4, 0.8, 1.2, 1.6, 2. , 2.4, 2.8, 3.2, 3.6, 4. ]),\n",
       " <a list of 10 Patch objects>)"
      ]
     },
     "execution_count": 9,
     "metadata": {},
     "output_type": "execute_result"
    },
    {
     "data": {
      "image/png": "[encoded data removed]",
      "text/plain": [
       "<Figure size 432x288 with 1 Axes>"
      ]
     },
     "metadata": {
      "needs_background": "light"
     },
     "output_type": "display_data"
    }
   ],
   "source": [
    "plt.hist(data_train[\"work_type\"])"
   ]
  },
  {
   "cell_type": "code",
   "execution_count": 10,
   "metadata": {},
   "outputs": [],
   "source": [
    "binary_features = [\"hypertension\", \"heart_disease\", \n",
    "                  \"ever_married\", \"Residence_type\"]\n",
    "linear_features = [\"age\", \"avg_glucose_level\", \"bmi\"]\n",
    "multilabel_features = [\"gender\", \"work_type\", \"smoking_status\"]"
   ]
  },
  {
   "cell_type": "markdown",
   "metadata": {},
   "source": [
    "Check NaN value in data"
   ]
  },
  {
   "cell_type": "code",
   "execution_count": 11,
   "metadata": {},
   "outputs": [
    {
     "name": "stdout",
     "output_type": "stream",
     "text": [
      "gender\t0\n",
      "age\t0\n",
      "hypertension\t0\n",
      "heart_disease\t0\n",
      "ever_married\t0\n",
      "work_type\t0\n",
      "Residence_type\t0\n",
      "avg_glucose_level\t0\n",
      "bmi\t1017\n",
      "smoking_status\t9176\n",
      "stroke\t0\n"
     ]
    }
   ],
   "source": [
    "for column in data_train.columns:\n",
    "    print(f\"{column}\\t{len(data_train) - len(data_train.dropna(subset=[column]))}\")"
   ]
  },
  {
   "cell_type": "markdown",
   "metadata": {},
   "source": [
    "BMI's NaN value will replace to mean value based on general thoughts"
   ]
  },
  {
   "cell_type": "code",
   "execution_count": 12,
   "metadata": {},
   "outputs": [],
   "source": [
    "mean_bmi = np.mean(data_train[\"bmi\"].dropna())\n",
    "data_train[\"bmi\"] = data_train[\"bmi\"].fillna(mean_bmi)\n",
    "data_test[\"bmi\"] = data_test[\"bmi\"].fillna(mean_bmi)"
   ]
  },
  {
   "cell_type": "code",
   "execution_count": 13,
   "metadata": {},
   "outputs": [],
   "source": [
    "## Transform binary features\n",
    "for feature in binary_features:\n",
    "    data_train[feature] = one_hot_encoding(data_train, [feature])\n",
    "    data_test[feature] = one_hot_encoding(data_test, [feature])"
   ]
  },
  {
   "cell_type": "code",
   "execution_count": 14,
   "metadata": {},
   "outputs": [],
   "source": [
    "## Tranform gender feature\n",
    "gender_data_train = pd.DataFrame()\n",
    "gender_data_test = pd.DataFrame()\n",
    "gender_data_train[\"gender\"] = data_train[\"gender\"]\n",
    "gender_data_test[\"gender\"] = data_train[\"gender\"]\n",
    "data_train.drop(labels=[\"gender\"], axis=1, inplace=True)\n",
    "data_test.drop(labels=[\"gender\"], axis=1, inplace=True)\n",
    "\n",
    "data_train = pd.concat([data_train, one_hot_encoding(gender_data_train, [\"gender\"])], axis=1)\n",
    "data_test = pd.concat([data_test, one_hot_encoding(gender_data_test, [\"gender\"])], axis=1)"
   ]
  },
  {
   "cell_type": "code",
   "execution_count": 15,
   "metadata": {},
   "outputs": [],
   "source": [
    "## Tranform work type feature\n",
    "work_data_train = pd.DataFrame()\n",
    "work_data_test = pd.DataFrame()\n",
    "work_data_train[\"work_type\"] = data_train[\"work_type\"]\n",
    "work_data_test[\"work_type\"] = data_train[\"work_type\"]\n",
    "data_train.drop(labels=[\"work_type\"], axis=1, inplace=True)\n",
    "data_test.drop(labels=[\"work_type\"], axis=1, inplace=True)\n",
    "\n",
    "data_train = pd.concat([data_train, one_hot_encoding(work_data_train, [\"work_type\"])], axis=1)\n",
    "data_test = pd.concat([data_test, one_hot_encoding(work_data_test, [\"work_type\"])], axis=1)"
   ]
  },
  {
   "cell_type": "code",
   "execution_count": 16,
   "metadata": {},
   "outputs": [
    {
     "name": "stdout",
     "output_type": "stream",
     "text": [
      "formerly smoked:\n",
      "0.23538788241138475\n",
      "never smoked:\n",
      "7.025205952059387\n",
      "smokes:\n",
      "6.593940758501628\n"
     ]
    }
   ],
   "source": [
    "# Analysis NaN value in smoking_status column using lv\n",
    "for value in ['formerly smoked', 'never smoked', 'smokes']:\n",
    "    temp = deepcopy(data_train[[\"smoking_status\", \"stroke\"]])\n",
    "    temp.fillna(value, inplace=True)\n",
    "    print(f\"{value}:\")\n",
    "    print(lv(temp))"
   ]
  },
  {
   "cell_type": "markdown",
   "metadata": {},
   "source": [
    "Using instead of NaN value -> never smoked value"
   ]
  },
  {
   "cell_type": "code",
   "execution_count": 17,
   "metadata": {},
   "outputs": [],
   "source": [
    "data_train.fillna('never smoked', inplace=True)\n",
    "data_test.fillna('never smoked', inplace=True)"
   ]
  },
  {
   "cell_type": "code",
   "execution_count": 18,
   "metadata": {},
   "outputs": [],
   "source": [
    "smoking_status_dict = {'never smoked': 0, 'formerly smoked': 1, 'smokes': 2}\n",
    "data_train.replace(smoking_status_dict, inplace=True)\n",
    "data_test.replace(smoking_status_dict, inplace=True)"
   ]
  },
  {
   "cell_type": "markdown",
   "metadata": {},
   "source": [
    "## Feature selection"
   ]
  },
  {
   "cell_type": "code",
   "execution_count": 19,
   "metadata": {
    "scrolled": true
   },
   "outputs": [
    {
     "name": "stdout",
     "output_type": "stream",
     "text": [
      "age: 176.69439869657748\n",
      "avg_glucose_level: 33.575124346884344\n",
      "bmi: 16.91205245025645\n",
      "heart_disease: 27.06865559862513\n",
      "work_type_Self-employed: 9.871675417608534\n",
      "work_type_children: 41.03071118249582\n",
      "Residence_type: 0.04443331135239037\n",
      "smoking_status: 7.025205952059387\n",
      "work_type_Never_worked: 0.2266145772527963\n",
      "gender_Female: 0.5536056633444901\n",
      "work_type_Private: 0.09102708379766498\n",
      "work_type_Govt_job: 0.004683103094695176\n",
      "ever_married: 38.44872819820584\n",
      "hypertension: 19.326304810809738\n",
      "gender_Male: 0.5638650087199448\n",
      "gender_Other: 0.0022394029168574356\n",
      "stroke: 1060.6609816118153\n"
     ]
    }
   ],
   "source": [
    "# Set threshold to lv analysis - 1\n",
    "thr = 1\n",
    "linear_features = [\"age\", \"avg_glucose_level\", \"bmi\"]\n",
    "others_features = list(set(data_train.columns) - set(linear_features))\n",
    "lv_features = []\n",
    "for linear_feature in linear_features:\n",
    "    invest_data = pd.DataFrame(create_bins(data_train[linear_feature], 10), index=data_train.index)\n",
    "    lv_value = lv(pd.concat([invest_data, data_train['stroke']], axis=1))\n",
    "    print(f\"{linear_feature}: {lv_value}\")\n",
    "    if lv_value > thr:\n",
    "        lv_features.append(linear_feature)\n",
    "    \n",
    "for other_feature in others_features:\n",
    "    lv_value = lv(data_train[[other_feature, 'stroke']])\n",
    "    print(f\"{other_feature}: {lv_value}\")\n",
    "    if lv_value > thr:\n",
    "        lv_features.append(other_feature)"
   ]
  },
  {
   "cell_type": "code",
   "execution_count": 20,
   "metadata": {},
   "outputs": [
    {
     "name": "stdout",
     "output_type": "stream",
     "text": [
      "['age', 'avg_glucose_level', 'bmi', 'heart_disease', 'work_type_Self-employed', 'work_type_children', 'smoking_status', 'ever_married', 'hypertension', 'stroke']\n"
     ]
    }
   ],
   "source": [
    "# We select these features based on lv\n",
    "print(lv_features)"
   ]
  },
  {
   "cell_type": "markdown",
   "metadata": {},
   "source": [
    "## Deleting outliers"
   ]
  },
  {
   "cell_type": "code",
   "execution_count": 21,
   "metadata": {},
   "outputs": [
    {
     "data": {
      "text/plain": [
       "<matplotlib.axes._subplots.AxesSubplot at 0x1a23b2fdd0>"
      ]
     },
     "execution_count": 21,
     "metadata": {},
     "output_type": "execute_result"
    },
    {
     "data": {
      "image/png": "[encoded data removed]",
      "text/plain": [
       "<Figure size 432x288 with 1 Axes>"
      ]
     },
     "metadata": {
      "needs_background": "light"
     },
     "output_type": "display_data"
    }
   ],
   "source": [
    "# Age data hasn't outliers\n",
    "sns.boxplot(x=data_train[\"age\"])"
   ]
  },
  {
   "cell_type": "code",
   "execution_count": 22,
   "metadata": {},
   "outputs": [
    {
     "data": {
      "text/plain": [
       "<matplotlib.axes._subplots.AxesSubplot at 0x1a3dabb650>"
      ]
     },
     "execution_count": 22,
     "metadata": {},
     "output_type": "execute_result"
    },
    {
     "data": {
      "image/png": "[encoded data removed]",
      "text/plain": [
       "<Figure size 432x288 with 1 Axes>"
      ]
     },
     "metadata": {
      "needs_background": "light"
     },
     "output_type": "display_data"
    }
   ],
   "source": [
    "sns.boxplot(x=data_train[\"avg_glucose_level\"])"
   ]
  },
  {
   "cell_type": "code",
   "execution_count": 23,
   "metadata": {},
   "outputs": [
    {
     "data": {
      "text/plain": [
       "<matplotlib.axes._subplots.AxesSubplot at 0x1a3dbea550>"
      ]
     },
     "execution_count": 23,
     "metadata": {},
     "output_type": "execute_result"
    },
    {
     "data": {
      "image/png": "[encoded data removed]",
      "text/plain": [
       "<Figure size 432x288 with 1 Axes>"
      ]
     },
     "metadata": {
      "needs_background": "light"
     },
     "output_type": "display_data"
    }
   ],
   "source": [
    "sns.boxplot(x=data_train[\"bmi\"])"
   ]
  },
  {
   "cell_type": "code",
   "execution_count": 24,
   "metadata": {},
   "outputs": [
    {
     "data": {
      "text/plain": [
       "(array([11506., 10153.,  4684.,   462.,   641.,   992.,   930.,   465.,\n",
       "          145.,    23.]),\n",
       " array([4.48766964e-05, 4.09266477e-01, 8.18488077e-01, 1.22770968e+00,\n",
       "        1.63693128e+00, 2.04615288e+00, 2.45537448e+00, 2.86459608e+00,\n",
       "        3.27381768e+00, 3.68303928e+00, 4.09226088e+00]),\n",
       " <a list of 10 Patch objects>)"
      ]
     },
     "execution_count": 24,
     "metadata": {},
     "output_type": "execute_result"
    },
    {
     "data": {
      "image/png": "[encoded data removed]",
      "text/plain": [
       "<Figure size 432x288 with 1 Axes>"
      ]
     },
     "metadata": {
      "needs_background": "light"
     },
     "output_type": "display_data"
    }
   ],
   "source": [
    "# Thr = 3.5 for z-score\n",
    "z = np.abs(stats.zscore(data_train[\"avg_glucose_level\"]))\n",
    "plt.hist(z)"
   ]
  },
  {
   "cell_type": "code",
   "execution_count": 25,
   "metadata": {},
   "outputs": [],
   "source": [
    "thr = 3.5\n",
    "data_train = data_train[z < thr]"
   ]
  },
  {
   "cell_type": "code",
   "execution_count": 26,
   "metadata": {},
   "outputs": [
    {
     "data": {
      "text/plain": [
       "(array([1.989e+04, 8.307e+03, 1.304e+03, 3.130e+02, 9.500e+01, 2.300e+01,\n",
       "        6.000e+00, 1.000e+00, 2.000e+00, 3.000e+00]),\n",
       " array([8.14720018e-04, 9.02228702e-01, 1.80364268e+00, 2.70505667e+00,\n",
       "        3.60647065e+00, 4.50788463e+00, 5.40929861e+00, 6.31071260e+00,\n",
       "        7.21212658e+00, 8.11354056e+00, 9.01495454e+00]),\n",
       " <a list of 10 Patch objects>)"
      ]
     },
     "execution_count": 26,
     "metadata": {},
     "output_type": "execute_result"
    },
    {
     "data": {
      "image/png": "[encoded data removed]",
      "text/plain": [
       "<Figure size 432x288 with 1 Axes>"
      ]
     },
     "metadata": {
      "needs_background": "light"
     },
     "output_type": "display_data"
    }
   ],
   "source": [
    "# thr = 3\n",
    "z = np.abs(stats.zscore(data_train[\"bmi\"]))\n",
    "plt.hist(z)"
   ]
  },
  {
   "cell_type": "code",
   "execution_count": 27,
   "metadata": {},
   "outputs": [],
   "source": [
    "thr = 3\n",
    "data_train = data_train[z < thr]"
   ]
  },
  {
   "cell_type": "markdown",
   "metadata": {},
   "source": [
    "## Scaling linear features"
   ]
  },
  {
   "cell_type": "code",
   "execution_count": 28,
   "metadata": {},
   "outputs": [],
   "source": [
    "scaler = StandardScaler()\n",
    "data_train[linear_features] = scaler.fit_transform(data_train[linear_features])\n",
    "data_test[linear_features] = scaler.transform(data_test[linear_features])"
   ]
  },
  {
   "cell_type": "markdown",
   "metadata": {},
   "source": [
    "## Search high correlation"
   ]
  },
  {
   "cell_type": "code",
   "execution_count": 29,
   "metadata": {},
   "outputs": [
    {
     "data": {
      "text/plain": [
       "<matplotlib.axes._subplots.AxesSubplot at 0x1a3c129fd0>"
      ]
     },
     "execution_count": 29,
     "metadata": {},
     "output_type": "execute_result"
    },
    {
     "data": {
      "image/png": "[encoded data removed]",
      "text/plain": [
       "<Figure size 432x288 with 2 Axes>"
      ]
     },
     "metadata": {
      "needs_background": "light"
     },
     "output_type": "display_data"
    }
   ],
   "source": [
    "# Negative correlation is the result of converting features\n",
    "# We can see correlation between age and ever married (that's obvious)\n",
    "# Probably we remove ever_married feature in future\n",
    "sns.heatmap((data_train[lv_features]).corr())"
   ]
  },
  {
   "cell_type": "markdown",
   "metadata": {},
   "source": [
    "And that's the end of processing data"
   ]
  },
  {
   "cell_type": "markdown",
   "metadata": {},
   "source": [
    "# Check models"
   ]
  },
  {
   "cell_type": "code",
   "execution_count": 30,
   "metadata": {},
   "outputs": [],
   "source": [
    "def get_score(X, y, model):\n",
    "    scores = []\n",
    "\n",
    "    kf = StratifiedKFold(5)\n",
    "    for train_index, test_index in kf.split(X, y):\n",
    "        X_train, X_test = X.iloc[train_index], X.iloc[test_index]\n",
    "        y_train, y_test = y.iloc[train_index], y.iloc[test_index]\n",
    "\n",
    "        model = deepcopy(model)\n",
    "        model.fit(X_train, y_train)\n",
    "\n",
    "        y_proba = model.predict_proba(X_test)[:,1]\n",
    "\n",
    "        scores.append(roc_auc_score(y_test, y_proba))\n",
    "\n",
    "    return (np.mean(scores))"
   ]
  },
  {
   "cell_type": "markdown",
   "metadata": {},
   "source": [
    "## Prepare data"
   ]
  },
  {
   "cell_type": "code",
   "execution_count": 32,
   "metadata": {},
   "outputs": [],
   "source": [
    "lv_features.remove(\"stroke\")"
   ]
  },
  {
   "cell_type": "code",
   "execution_count": 35,
   "metadata": {},
   "outputs": [],
   "source": [
    "X = data_train[lv_features]\n",
    "X_sub = data_test[lv_features]\n",
    "y = y[X.index]"
   ]
  },
  {
   "cell_type": "markdown",
   "metadata": {},
   "source": [
    "Futher go copy-paste code..."
   ]
  },
  {
   "cell_type": "markdown",
   "metadata": {},
   "source": [
    "## Logistic regression"
   ]
  },
  {
   "cell_type": "code",
   "execution_count": 243,
   "metadata": {},
   "outputs": [
    {
     "name": "stdout",
     "output_type": "stream",
     "text": [
      "alpha: 1\n",
      "0.8554547199133884\n",
      "alpha: 10\n",
      "0.8555041100659484\n",
      "alpha: 100\n",
      "0.8555106192905978\n",
      "alpha: 500\n",
      "0.8555063745219595\n",
      "alpha: 1000\n",
      "0.8555109445014969\n",
      "alpha: 2000\n",
      "0.8555076927412613\n",
      "alpha: 3000\n",
      "0.8555086531678093\n"
     ]
    }
   ],
   "source": [
    "alpha = [1, 10, 100, 500, 1000, 2000, 3000]\n",
    "result = []\n",
    "for a in alpha:\n",
    "    print(f\"alpha: {a}\" )\n",
    "    model = LogisticRegression(solver='liblinear', penalty='l1', C=a)\n",
    "    score = get_score(X, y, model)\n",
    "    print(score)\n",
    "    result.append(score)"
   ]
  },
  {
   "cell_type": "code",
   "execution_count": 228,
   "metadata": {},
   "outputs": [
    {
     "data": {
      "image/png": "[encoded data removed]",
      "text/plain": [
       "<Figure size 432x288 with 1 Axes>"
      ]
     },
     "metadata": {
      "needs_background": "light"
     },
     "output_type": "display_data"
    }
   ],
   "source": [
    "plt.scatter(alpha, result)\n",
    "plt.xlabel(\"alpha\")\n",
    "plt.ylabel(\"score\")\n",
    "plt.show()"
   ]
  },
  {
   "cell_type": "markdown",
   "metadata": {},
   "source": [
    "Alpha = 1000 for l1 penalty is optimum"
   ]
  },
  {
   "cell_type": "code",
   "execution_count": 244,
   "metadata": {},
   "outputs": [
    {
     "name": "stdout",
     "output_type": "stream",
     "text": [
      "alpha: 10\n",
      "0.8555107136427533\n",
      "alpha: 100\n",
      "0.8555047562449163\n",
      "alpha: 500\n",
      "0.855507351378509\n",
      "alpha: 1000\n",
      "0.8555093107401561\n",
      "alpha: 1500\n",
      "0.8555096362292034\n",
      "alpha: 2000\n",
      "0.8555093107401561\n",
      "alpha: 2500\n",
      "0.8555089852511089\n"
     ]
    }
   ],
   "source": [
    "alpha = [10, 100, 500, 1000, 1500, 2000, 2500]\n",
    "result = []\n",
    "for a in alpha:\n",
    "    print(f\"alpha: {a}\" )\n",
    "    model = LogisticRegression(solver='liblinear', penalty='l2', C=a)\n",
    "    score = get_score(X, y, model)\n",
    "    print(score)\n",
    "    result.append(score)"
   ]
  },
  {
   "cell_type": "code",
   "execution_count": 245,
   "metadata": {},
   "outputs": [
    {
     "data": {
      "image/png": "[encoded data removed]",
      "text/plain": [
       "<Figure size 432x288 with 1 Axes>"
      ]
     },
     "metadata": {
      "needs_background": "light"
     },
     "output_type": "display_data"
    }
   ],
   "source": [
    "plt.scatter(alpha, result)\n",
    "plt.xlabel(\"alpha\")\n",
    "plt.ylabel(\"score\")\n",
    "plt.show()"
   ]
  },
  {
   "cell_type": "markdown",
   "metadata": {},
   "source": [
    "Alpha = 1500 for l2 penalty is optimum"
   ]
  },
  {
   "cell_type": "code",
   "execution_count": 246,
   "metadata": {},
   "outputs": [
    {
     "name": "stdout",
     "output_type": "stream",
     "text": [
      "alpha: 10\n",
      "0.8555047546723091\n",
      "alpha: 100\n",
      "0.8555089789906342\n",
      "alpha: 500\n",
      "0.8555109382966519\n",
      "alpha: 1000\n",
      "0.8555106128076047\n",
      "alpha: 1500\n",
      "0.8555099618295099\n",
      "alpha: 2000\n",
      "0.8555109414825189\n",
      "alpha: 2500\n",
      "0.8555106159934714\n"
     ]
    }
   ],
   "source": [
    "alpha = [10, 100, 500, 1000, 1500, 2000, 2500]\n",
    "result = []\n",
    "for a in alpha:\n",
    "    print(f\"alpha: {a}\" )\n",
    "    model = LogisticRegression(solver='saga', \n",
    "                               penalty='elasticnet', \n",
    "                               C=a, l1_ratio=0.5,\n",
    "                              max_iter=1000)\n",
    "    score = get_score(X, y, model)\n",
    "    print(score)\n",
    "    result.append(score)"
   ]
  },
  {
   "cell_type": "code",
   "execution_count": 247,
   "metadata": {},
   "outputs": [
    {
     "data": {
      "image/png": "[encoded data removed]",
      "text/plain": [
       "<Figure size 432x288 with 1 Axes>"
      ]
     },
     "metadata": {
      "needs_background": "light"
     },
     "output_type": "display_data"
    }
   ],
   "source": [
    "plt.scatter(alpha, result)\n",
    "plt.xlabel(\"alpha\")\n",
    "plt.ylabel(\"score\")\n",
    "plt.show()"
   ]
  },
  {
   "cell_type": "markdown",
   "metadata": {},
   "source": [
    "Alpha = 1500 for elastic net penalty is optimum"
   ]
  },
  {
   "cell_type": "markdown",
   "metadata": {},
   "source": [
    "## Decision Tree"
   ]
  },
  {
   "cell_type": "code",
   "execution_count": 255,
   "metadata": {},
   "outputs": [
    {
     "name": "stdout",
     "output_type": "stream",
     "text": [
      "depth: 1\n",
      "0.7281333383623816\n",
      "depth: 2\n",
      "0.769962219392559\n",
      "depth: 3\n",
      "0.8140614678378226\n",
      "depth: 4\n",
      "0.8305593887190312\n",
      "depth: 5\n",
      "0.8355394961285253\n",
      "depth: 6\n",
      "0.8203310896772461\n",
      "depth: 7\n",
      "0.7956806741881429\n"
     ]
    }
   ],
   "source": [
    "depth = [1, 2, 3, 4, 5, 6, 7]\n",
    "result = []\n",
    "for d in depth:\n",
    "    print(f\"depth: {d}\" )\n",
    "    model = DecisionTreeClassifier(max_depth=d)\n",
    "    score = get_score(X, y, model)\n",
    "    print(score)\n",
    "    result.append(score)"
   ]
  },
  {
   "cell_type": "code",
   "execution_count": 254,
   "metadata": {},
   "outputs": [
    {
     "data": {
      "image/png": "[encoded data removed]",
      "text/plain": [
       "<Figure size 432x288 with 1 Axes>"
      ]
     },
     "metadata": {
      "needs_background": "light"
     },
     "output_type": "display_data"
    }
   ],
   "source": [
    "plt.scatter(depth, result)\n",
    "plt.xlabel(\"depth\")\n",
    "plt.ylabel(\"score\")\n",
    "plt.show()"
   ]
  },
  {
   "cell_type": "markdown",
   "metadata": {},
   "source": [
    "depth = 5 for decision tree is optimum. Next values lead to overfitting"
   ]
  },
  {
   "cell_type": "code",
   "execution_count": 267,
   "metadata": {
    "scrolled": true
   },
   "outputs": [
    {
     "name": "stdout",
     "output_type": "stream",
     "text": [
      "max leaf: 5\n",
      "0.7501614772696575\n",
      "max leaf: 10\n",
      "0.7770943349389807\n",
      "max leaf: 15\n",
      "0.7914901854358511\n",
      "max leaf: 20\n",
      "0.8054176310423845\n",
      "max leaf: 25\n",
      "0.8202800098897868\n",
      "max leaf: 30\n",
      "0.8335473731226563\n",
      "max leaf: 35\n",
      "0.8355394961285253\n",
      "max leaf: 40\n",
      "0.8355394961285253\n",
      "max leaf: 45\n",
      "0.8355394961285253\n",
      "max leaf: 50\n",
      "0.8355394961285253\n",
      "max leaf: 55\n",
      "0.8355394961285253\n",
      "max leaf: 60\n",
      "0.8355394961285253\n",
      "max leaf: 65\n",
      "0.8355394961285253\n",
      "max leaf: 70\n",
      "0.8354040695429192\n"
     ]
    }
   ],
   "source": [
    "max_leaf_nodes = [5, 10, 15, 20, 25, 30, 35, 40, 45, 50, 55, 60, 65, 70]\n",
    "result = []\n",
    "for leaf in max_leaf_nodes:\n",
    "    print(f\"max leaf: {leaf}\" )\n",
    "    model = DecisionTreeClassifier(max_depth=5, max_leaf_nodes=leaf)\n",
    "    score = get_score(X, y, model)\n",
    "    print(score)\n",
    "    result.append(score)"
   ]
  },
  {
   "cell_type": "code",
   "execution_count": 268,
   "metadata": {},
   "outputs": [
    {
     "data": {
      "image/png": "[encoded data removed]",
      "text/plain": [
       "<Figure size 432x288 with 1 Axes>"
      ]
     },
     "metadata": {
      "needs_background": "light"
     },
     "output_type": "display_data"
    }
   ],
   "source": [
    "plt.scatter(max_leaf_nodes, result)\n",
    "plt.xlabel(\"max_leaf_nodes\")\n",
    "plt.ylabel(\"score\")\n",
    "plt.show()"
   ]
  },
  {
   "cell_type": "markdown",
   "metadata": {},
   "source": [
    "max_leaf_nodes = 35 is optimum. Next value is limited by depth value"
   ]
  },
  {
   "cell_type": "code",
   "execution_count": 271,
   "metadata": {},
   "outputs": [
    {
     "name": "stdout",
     "output_type": "stream",
     "text": [
      "min samples split: 2\n",
      "0.8354040695429192\n",
      "min samples split: 3\n",
      "0.8354040695429192\n",
      "min samples split: 4\n",
      "0.8354040695429192\n",
      "min samples split: 5\n",
      "0.8354047206322731\n",
      "min samples split: 6\n",
      "0.8354047206322731\n"
     ]
    }
   ],
   "source": [
    "min_samples_split = [2, 3, 4, 5, 6]\n",
    "result = []\n",
    "for param in min_samples_split:\n",
    "    print(f\"min samples split: {param}\" )\n",
    "    model = DecisionTreeClassifier(max_depth=5, min_samples_split=param)\n",
    "    score = get_score(X, y, model)\n",
    "    print(score)\n",
    "    result.append(score)"
   ]
  },
  {
   "cell_type": "code",
   "execution_count": 272,
   "metadata": {},
   "outputs": [
    {
     "data": {
      "image/png": "[encoded data removed]",
      "text/plain": [
       "<Figure size 432x288 with 1 Axes>"
      ]
     },
     "metadata": {
      "needs_background": "light"
     },
     "output_type": "display_data"
    }
   ],
   "source": [
    "plt.scatter(min_samples_split, result)\n",
    "plt.xlabel(\"min samples split\")\n",
    "plt.ylabel(\"score\")\n",
    "plt.show()"
   ]
  },
  {
   "cell_type": "markdown",
   "metadata": {},
   "source": [
    "There are a lit bit changes in scores"
   ]
  },
  {
   "cell_type": "markdown",
   "metadata": {},
   "source": [
    "## Random Forest"
   ]
  },
  {
   "cell_type": "code",
   "execution_count": 276,
   "metadata": {},
   "outputs": [
    {
     "name": "stdout",
     "output_type": "stream",
     "text": [
      "depth: 2\n",
      "0.8474416268859188\n",
      "depth: 3\n",
      "0.8522975761382281\n",
      "depth: 4\n",
      "0.854731269433486\n",
      "depth: 5\n",
      "0.8569478137718706\n",
      "depth: 6\n",
      "0.8561403129334966\n"
     ]
    }
   ],
   "source": [
    "max_depth= [2, 3, 4, 5, 6]\n",
    "result = []\n",
    "for d in max_depth:\n",
    "    print(f\"depth: {d}\" )\n",
    "    model = RandomForestClassifier(max_depth=d, n_estimators=20)\n",
    "    score = get_score(X, y, model)\n",
    "    print(score)\n",
    "    result.append(score)"
   ]
  },
  {
   "cell_type": "code",
   "execution_count": 277,
   "metadata": {},
   "outputs": [
    {
     "data": {
      "image/png": "[encoded data removed]",
      "text/plain": [
       "<Figure size 432x288 with 1 Axes>"
      ]
     },
     "metadata": {
      "needs_background": "light"
     },
     "output_type": "display_data"
    }
   ],
   "source": [
    "plt.scatter(max_depth, result)\n",
    "plt.xlabel(\"max depth\")\n",
    "plt.ylabel(\"score\")\n",
    "plt.show()"
   ]
  },
  {
   "cell_type": "markdown",
   "metadata": {},
   "source": [
    "Get 4 max depth to avoid overfitting"
   ]
  },
  {
   "cell_type": "code",
   "execution_count": 282,
   "metadata": {
    "scrolled": true
   },
   "outputs": [
    {
     "name": "stdout",
     "output_type": "stream",
     "text": [
      "n_estimators: 10\n",
      "0.8556485502596602\n",
      "n_estimators: 15\n",
      "0.8534967019670265\n",
      "n_estimators: 20\n",
      "0.8553893357428484\n",
      "n_estimators: 25\n",
      "0.8542918258536212\n",
      "n_estimators: 30\n",
      "0.855959084604776\n",
      "n_estimators: 35\n",
      "0.8559449885440141\n",
      "n_estimators: 40\n",
      "0.8576807897371184\n",
      "n_estimators: 45\n",
      "0.8561886662532622\n",
      "n_estimators: 50\n",
      "0.8557061608303957\n"
     ]
    }
   ],
   "source": [
    "n_estimators = [10, 15, 20, 25, 30, 35, 40, 45, 50]\n",
    "result = []\n",
    "for n in n_estimators:\n",
    "    print(f\"n_estimators: {n}\" )\n",
    "    model = RandomForestClassifier(max_depth=4, n_estimators=n)\n",
    "    score = get_score(X, y, model)\n",
    "    print(score)\n",
    "    result.append(score)"
   ]
  },
  {
   "cell_type": "code",
   "execution_count": 283,
   "metadata": {},
   "outputs": [
    {
     "data": {
      "image/png": "[encoded data removed]",
      "text/plain": [
       "<Figure size 432x288 with 1 Axes>"
      ]
     },
     "metadata": {
      "needs_background": "light"
     },
     "output_type": "display_data"
    }
   ],
   "source": [
    "plt.scatter(n_estimators, result)\n",
    "plt.xlabel(\"n estimators\")\n",
    "plt.ylabel(\"score\")\n",
    "plt.show()"
   ]
  },
  {
   "cell_type": "markdown",
   "metadata": {},
   "source": [
    "Get 40 estimators"
   ]
  },
  {
   "cell_type": "code",
   "execution_count": 285,
   "metadata": {},
   "outputs": [
    {
     "name": "stdout",
     "output_type": "stream",
     "text": [
      "max leaf: 5\n",
      "0.8534206257318301\n",
      "max leaf: 10\n",
      "0.8549039844710722\n",
      "max leaf: 15\n",
      "0.8564181320594336\n",
      "max leaf: 20\n",
      "0.8573065336267212\n",
      "max leaf: 25\n",
      "0.8556109819456392\n",
      "max leaf: 30\n",
      "0.8574596098337718\n",
      "max leaf: 35\n",
      "0.8568759238663715\n",
      "max leaf: 40\n",
      "0.8563272552921293\n",
      "max leaf: 45\n",
      "0.8568417491638989\n",
      "max leaf: 50\n",
      "0.8572586184471017\n",
      "max leaf: 55\n",
      "0.8559890157517642\n",
      "max leaf: 60\n",
      "0.8561615435367592\n",
      "max leaf: 65\n",
      "0.8541898667165893\n",
      "max leaf: 70\n",
      "0.8569013811329629\n"
     ]
    }
   ],
   "source": [
    "max_leaf_nodes = [5, 10, 15, 20, 25, 30, 35, 40, 45, 50, 55, 60, 65, 70]\n",
    "result = []\n",
    "for leaf in max_leaf_nodes:\n",
    "    print(f\"max leaf: {leaf}\" )\n",
    "    model = RandomForestClassifier(max_depth=4, n_estimators=40, max_leaf_nodes=leaf)\n",
    "    score = get_score(X, y, model)\n",
    "    print(score)\n",
    "    result.append(score)"
   ]
  },
  {
   "cell_type": "code",
   "execution_count": 286,
   "metadata": {},
   "outputs": [
    {
     "data": {
      "image/png": "[encoded data removed]",
      "text/plain": [
       "<Figure size 432x288 with 1 Axes>"
      ]
     },
     "metadata": {
      "needs_background": "light"
     },
     "output_type": "display_data"
    }
   ],
   "source": [
    "plt.scatter(max_leaf_nodes, result)\n",
    "plt.xlabel(\"max leaf noes\")\n",
    "plt.ylabel(\"score\")\n",
    "plt.show()"
   ]
  },
  {
   "cell_type": "markdown",
   "metadata": {},
   "source": [
    "30 look like optimum"
   ]
  },
  {
   "cell_type": "markdown",
   "metadata": {},
   "source": [
    "## Create submission"
   ]
  },
  {
   "cell_type": "code",
   "execution_count": 65,
   "metadata": {},
   "outputs": [],
   "source": [
    "def submission(X, y, sub, model, output):\n",
    "    sample_sub = pd.read_csv(\"sample_submission.csv\")\n",
    "    model.fit(X, y)\n",
    "    y_proba = model.predict_proba(X_sub)[:,1]\n",
    "    \n",
    "    sub = pd.DataFrame()\n",
    "    sub[\"id\"] = X_sub.index\n",
    "    sub[\"stroke\"] = y_proba\n",
    "    sub = sub[sub[\"id\"].isin(sample_sub['id'])]\n",
    "    sub.to_csv(output, sep=',', index=False, header=True)"
   ]
  },
  {
   "cell_type": "code",
   "execution_count": 61,
   "metadata": {},
   "outputs": [],
   "source": [
    "X = data_train[lv_features]\n",
    "X_sub = data_test[lv_features]\n",
    "y = y[X.index]"
   ]
  },
  {
   "cell_type": "code",
   "execution_count": 66,
   "metadata": {},
   "outputs": [],
   "source": [
    "model = RandomForestClassifier(max_depth=4, n_estimators=40)\n",
    "submission(X, y, X_sub, model, \"submission_2.csv\")"
   ]
  },
  {
   "cell_type": "code",
   "execution_count": 67,
   "metadata": {},
   "outputs": [],
   "source": [
    "model = LogisticRegression(solver='saga', \n",
    "                               penalty='elasticnet', \n",
    "                               C=500, l1_ratio=0.5)\n",
    "submission(X, y, X_sub, model, \"submission_2.csv\")"
   ]
  },
  {
   "cell_type": "code",
   "execution_count": 68,
   "metadata": {},
   "outputs": [],
   "source": [
    "model = DecisionTreeClassifier(max_depth=5)\n",
    "submission(X, y, X_sub, model, \"submission_3.csv\")"
   ]
  },
  {
   "cell_type": "markdown",
   "metadata": {},
   "source": [
    "Result on Kaggle:\n",
    "    \n",
    "Random Forest - 0.86017\n",
    "\n",
    "DecisionTree - 0.83376\n",
    "\n",
    "Logistic Regression - 0.86677\n",
    "\n",
    "Best: Logistic Regression"
   ]
  }
 ],
 "metadata": {
  "kernelspec": {
   "display_name": "Python 3",
   "language": "python",
   "name": "python3"
  },
  "language_info": {
   "codemirror_mode": {
    "name": "ipython",
    "version": 3
   },
   "file_extension": ".py",
   "mimetype": "text/x-python",
   "name": "python",
   "nbconvert_exporter": "python",
   "pygments_lexer": "ipython3",
   "version": "3.7.4"
  }
 },
 "nbformat": 4,
 "nbformat_minor": 2
}
